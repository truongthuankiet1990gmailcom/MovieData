{
 "cells": [
  {
   "cell_type": "code",
   "execution_count": 1,
   "metadata": {},
   "outputs": [],
   "source": [
    "import requests\n",
    "from bs4 import BeautifulSoup\n",
    "import csv"
   ]
  },
  {
   "cell_type": "code",
   "execution_count": 2,
   "metadata": {},
   "outputs": [],
   "source": [
    "headers = {\n",
    "    'User-Agent': 'Mozilla/5.0 (Windows NT 10.0; Win64; x64) AppleWebKit/537.36 (KHTML, like Gecko) Chrome/91.0.4472.124 Safari/537.36'\n",
    "}\n",
    "\n",
    "base_url = \"https://www.the-numbers.com/movie/budgets/all/\"\n",
    "page_num = 1"
   ]
  },
  {
   "cell_type": "code",
   "execution_count": 3,
   "metadata": {},
   "outputs": [],
   "source": [
    "with open('../../Data/movie_budgets.csv', mode='w', newline='', encoding='utf-8') as csv_file:\n",
    "    csv_writer = csv.writer(csv_file)\n",
    "    \n",
    "    # Ghi tiêu đề cột vào file CSV\n",
    "    csv_writer.writerow(['Release Date', 'Movie Name', 'Production Budget', 'Domestic Gross', 'Worldwide Gross'])\n",
    "\n",
    "    while page_num <= 6601:\n",
    "        url = f\"{base_url}{page_num}\"\n",
    "        response = requests.get(url, headers=headers)\n",
    "\n",
    "        if response.status_code == 200:\n",
    "            soup = BeautifulSoup(response.text, 'html.parser')\n",
    "            table = soup.find('table')\n",
    "\n",
    "            rows = table.find_all('tr')\n",
    "\n",
    "            for row in rows[1:]:\n",
    "                columns = row.find_all('td')\n",
    "                if len(columns) > 1:\n",
    "                    _ = columns[0].get_text(strip=True)\n",
    "                    release_date = columns[1].get_text(strip=True)\n",
    "                    movie_name = columns[2].get_text(strip=True)\n",
    "                    production_budget = columns[3].get_text(strip=True)\n",
    "                    domestic_gross = columns[4].get_text(strip=True)\n",
    "                    worldwide_gross = columns[5].get_text(strip=True)\n",
    "\n",
    "                    # Ghi dữ liệu vào file CSV\n",
    "                    csv_writer.writerow([release_date, movie_name, production_budget, domestic_gross, worldwide_gross])\n",
    "        else:\n",
    "            print(f\"Failed to retrieve data: {response.status_code}\")\n",
    "\n",
    "        page_num += 100"
   ]
  }
 ],
 "metadata": {
  "kernelspec": {
   "display_name": "Python 3",
   "language": "python",
   "name": "python3"
  },
  "language_info": {
   "codemirror_mode": {
    "name": "ipython",
    "version": 3
   },
   "file_extension": ".py",
   "mimetype": "text/x-python",
   "name": "python",
   "nbconvert_exporter": "python",
   "pygments_lexer": "ipython3",
   "version": "3.12.7"
  }
 },
 "nbformat": 4,
 "nbformat_minor": 2
}
