{
 "cells": [
  {
   "cell_type": "code",
   "execution_count": null,
   "metadata": {
    "vscode": {
     "languageId": "plaintext"
    }
   },
   "outputs": [],
   "source": [
    "import requests\n",
    "from bs4 import BeautifulSoup\n",
    "import pandas as pd\n",
    "import csv\n"
   ]
  },
  {
   "cell_type": "code",
   "execution_count": null,
   "metadata": {
    "vscode": {
     "languageId": "plaintext"
    }
   },
   "outputs": [],
   "source": [
    "def get_metacritic(url):\n",
    "    headers = {\n",
    "        'User-Agent': 'Mozilla/5.0 (Windows NT 10.0; Win64; x64) AppleWebKit/537.36 (KHTML, like Gecko) Chrome/'\n",
    "    }\n",
    "    soup = fetch_movies(url, headers)\n",
    "\n",
    "    # find div containing metascore\n",
    "    divMeta = soup.find('div', class_=\"c-siteReviewScore_background c-siteReviewScore_background-critic_medium\")\n",
    "\n",
    "    # span data-v-e408cafe attribute is the score\n",
    "    metascore = divMeta.find('span', {'data-v-e408cafe': True}).text\n",
    "    \n",
    "    # find div containing userscore\n",
    "    divUser = soup.find('div', class_=\"c-siteReviewScore_background c-siteReviewScore_background-user\")\n",
    "\n",
    "    # span data-v-e408cafe attribute is the score\n",
    "    userscore = divUser.find('span', {'data-v-e408cafe': True}).text\n",
    "    return metascore, userscore\n",
    "\n",
    "def from_film_name_to_metacritic_url(film_name):\n",
    "    film_name = film_name.lower()\n",
    "    film_name = film_name.replace(\" \", \"-\")\n",
    "    film_name = film_name.replace(\":\", \"\")\n",
    "    film_name = film_name.replace(\"'\", \"\")\n",
    "    film_name = film_name.replace(\".\", \"\")\n",
    "    url = f\"https://www.metacritic.com/movie/{film_name}/\"\n",
    "    \n",
    "    return url\n",
    "\n",
    "def fetch_movies(url, headers):\n",
    "    response = requests.get(url, headers=headers)\n",
    "    soup = BeautifulSoup(response.content, \"html.parser\")\n",
    "    return soup\n",
    "\n",
    "def check_film_exists(film_name, failedPath):\n",
    "    film_url = from_film_name_to_metacritic_url(film_name)\n",
    "    headers = {\n",
    "        'User-Agent': 'Mozilla/5.0 (Windows NT 10.0; Win64; x64) AppleWebKit/537.36 (KHTML, like Gecko) Chrome/'\n",
    "    }\n",
    "    response = requests.get(film_url, headers=headers)\n",
    "    if response.status_code == 200:\n",
    "        return True\n",
    "    else:\n",
    "        \n",
    "        with open(failedPath, mode='a') as file:\n",
    "            file.write(f\"{film_name}\\n\")\n",
    "        return False"
   ]
  },
  {
   "cell_type": "code",
   "execution_count": null,
   "metadata": {
    "vscode": {
     "languageId": "plaintext"
    }
   },
   "outputs": [],
   "source": [
    "outputPath = \"../../Data/results.csv\"\n",
    "inputPath = \"../../Data/final_movies.csv\"\n",
    "failedPath = \"/failed.txt\"\n",
    "df = pd.read_csv(inputPath)\n",
    "# init results csv\n",
    "with open(outputPath, mode='w', newline='') as file:\n",
    "    writer = csv.writer(file)\n",
    "    # field names\n",
    "    writer.writerow([\"Title\", \"Metascore\", \"Userscore\"])\n",
    "# init fail list\n",
    "with open(failedPath, mode='w') as file:\n",
    "    file.write(\"Film \\n\")\n",
    "film_list = df['Title'].tolist()\n",
    "for film in film_list:\n",
    "    if(check_film_exists(film, failedPath)):\n",
    "        metascore, userscore = get_metacritic(from_film_name_to_metacritic_url(film))           \n",
    "    else:\n",
    "        metascore = \"N/A\"\n",
    "        userscore = \"N/A\"\n",
    "    # write results to csv\n",
    "    with open(outputPath, mode='a', newline='') as file:\n",
    "            writer = csv.writer(file)\n",
    "            writer.writerow([film, metascore, userscore])"
   ]
  }
 ],
 "metadata": {
  "language_info": {
   "name": "python"
  }
 },
 "nbformat": 4,
 "nbformat_minor": 2
}
